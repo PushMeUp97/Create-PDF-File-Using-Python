{
 "cells": [
  {
   "cell_type": "code",
   "execution_count": 1,
   "id": "9adecf80-dfed-48ad-99e1-79002afb7962",
   "metadata": {},
   "outputs": [],
   "source": [
    "from reportlab.pdfgen import canvas\n",
    "\n",
    "# Create a new PDF file\n",
    "pdf_file = canvas.Canvas(\"example.pdf\")\n",
    "\n",
    "# Add text to the PDF file\n",
    "pdf_file.drawString(72, 720, \"Hello, World!\")\n",
    "pdf_file.drawString(72, 700, \"Free PDF Document\")\n",
    "pdf_file.drawString(72, 680, \"Like | Share\")\n",
    "pdf_file.drawString(72, 660, \"Subscribe\")\n",
    "\n",
    "# Save the PDF file\n",
    "pdf_file.save()"
   ]
  }
 ],
 "metadata": {
  "kernelspec": {
   "display_name": "Python 3 (ipykernel)",
   "language": "python",
   "name": "python3"
  },
  "language_info": {
   "codemirror_mode": {
    "name": "ipython",
    "version": 3
   },
   "file_extension": ".py",
   "mimetype": "text/x-python",
   "name": "python",
   "nbconvert_exporter": "python",
   "pygments_lexer": "ipython3",
   "version": "3.12.6"
  }
 },
 "nbformat": 4,
 "nbformat_minor": 5
}
